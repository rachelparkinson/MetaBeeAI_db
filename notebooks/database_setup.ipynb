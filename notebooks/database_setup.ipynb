{
 "cells": [
  {
   "cell_type": "markdown",
   "metadata": {},
   "source": [
    "Set up SQLite database"
   ]
  },
  {
   "cell_type": "code",
   "execution_count": 1,
   "metadata": {},
   "outputs": [
    {
     "name": "stdout",
     "output_type": "stream",
     "text": [
      "Database initialized and data from ../data/papers_dataset_domains.csv imported into ../data/metabeeai.db\n"
     ]
    }
   ],
   "source": [
    "import sqlite3\n",
    "import pandas as pd\n",
    "\n",
    "# File paths\n",
    "csv_file_path = \"../data/papers_dataset_domains.csv\"  # Update if the file is elsewhere\n",
    "database_file_path = \"../data/metabeeai.db\"  # SQLite database file\n",
    "\n",
    "# Load the CSV into a pandas DataFrame\n",
    "df = pd.read_csv(csv_file_path)\n",
    "\n",
    "# Connect to SQLite database (or create it if it doesn't exist)\n",
    "conn = sqlite3.connect(database_file_path)\n",
    "cursor = conn.cursor()\n",
    "\n",
    "# Create the table schema\n",
    "create_table_query = \"\"\"\n",
    "CREATE TABLE IF NOT EXISTS papers (\n",
    "    record_id TEXT PRIMARY KEY,\n",
    "    title TEXT,\n",
    "    type_of_reference TEXT,\n",
    "    authors TEXT,\n",
    "    secondary_title TEXT,\n",
    "    abstract TEXT,\n",
    "    year INTEGER,\n",
    "    doi TEXT,\n",
    "    volume TEXT,\n",
    "    commu INTEGER,\n",
    "    indiv INTEGER,\n",
    "    letha INTEGER,\n",
    "    molec INTEGER,\n",
    "    popul INTEGER,\n",
    "    subin INTEGER,\n",
    "    path TEXT\n",
    ");\n",
    "\"\"\"\n",
    "cursor.execute(create_table_query)\n",
    "\n",
    "# Insert data into the table\n",
    "df.to_sql('papers', conn, if_exists='replace', index=False)\n",
    "\n",
    "# Commit changes and close connection\n",
    "conn.commit()\n",
    "conn.close()\n",
    "\n",
    "print(f\"Database initialized and data from {csv_file_path} imported into {database_file_path}\")\n"
   ]
  },
  {
   "cell_type": "markdown",
   "metadata": {},
   "source": [
    "Test database for record_id and title"
   ]
  },
  {
   "cell_type": "code",
   "execution_count": 4,
   "metadata": {},
   "outputs": [
    {
     "name": "stdout",
     "output_type": "stream",
     "text": [
      "Record ID: 1, Title: 4.13 Synergistic effects between variety of insecticides and an EBI fungicide combinations on bumble bees (Bombus terrestris L.)\n",
      "Record ID: 2, Title: 5.1 Large-scale monitoring of effects of clothianidin dressed OSR seeds on pollinating insects in Northern Germany: Effects on large earth bumblebees (Bombus terrestris)\n",
      "Record ID: 3, Title: A Combined LD50 for Agrochemicals and Pathogens in Bumblebees (Bombus terrestris [Hymenoptera: Apidae])\n",
      "Record ID: 4, Title: A Comparison of Pollen and Syrup Exposure Routes in Bombus impatiens (Hymenoptera: Apidae) Microcolonies: Implications for Pesticide Risk Assessment\n",
      "Record ID: 5, Title: A Four-Year Field Program Investigating Long-Term Effects of Repeated Exposure of Honey Bee Colonies to Flowering Crops Treated with Thiamethoxam\n",
      "Record ID: 6, Title: A Locomotor Deficit Induced by Sublethal Doses of Pyrethroid and Neonicotinoid Insecticides in the Honeybee Apis mellifera\n",
      "Record ID: 7, Title: A Pediococcus strain to rescue honeybees by decreasing Nosema ceranae- and pesticide-induced adverse effects\n",
      "Record ID: 8, Title: A RAPID AND EASY BIOASSAY METHOD FOR STINGLESS BEES TETRAGONULA TRAVANCORICA SHANAS AND FASEEH\n",
      "Record ID: 9, Title: A Spinosad-Based Formulation Reduces the Survival and Alters the Behavior of the Stingless Bee Plebeia lucii\n",
      "Record ID: 10, Title: A Sublethal Concentration of Sulfoxaflor Has Minimal Impact on Buff-Tailed Bumblebee (Bombus terrestris) Locomotor Behaviour under Aversive Conditioning\n"
     ]
    }
   ],
   "source": [
    "import sqlite3\n",
    "\n",
    "# Connect to the SQLite database\n",
    "conn = sqlite3.connect(\"../data/metabeeai.db\")\n",
    "cursor = conn.cursor()\n",
    "\n",
    "# Query to fetch record_id and title\n",
    "cursor.execute(\"SELECT record_id, title FROM papers LIMIT 10;\")\n",
    "results = cursor.fetchall()\n",
    "\n",
    "# Display the results\n",
    "for record_id, title in results:\n",
    "    print(f\"Record ID: {record_id}, Title: {title}\")\n",
    "\n",
    "# Close the connection\n",
    "conn.close()\n"
   ]
  }
 ],
 "metadata": {
  "kernelspec": {
   "display_name": ".venv",
   "language": "python",
   "name": "python3"
  },
  "language_info": {
   "codemirror_mode": {
    "name": "ipython",
    "version": 3
   },
   "file_extension": ".py",
   "mimetype": "text/x-python",
   "name": "python",
   "nbconvert_exporter": "python",
   "pygments_lexer": "ipython3",
   "version": "3.11.9"
  }
 },
 "nbformat": 4,
 "nbformat_minor": 2
}
